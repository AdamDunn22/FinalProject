{
  "cells": [
    {
      "cell_type": "markdown",
      "metadata": {
        "id": "view-in-github",
        "colab_type": "text"
      },
      "source": [
        "<a href=\"https://colab.research.google.com/github/AdamDunn22/FinalProject/blob/Mohamed/Diabetes_AWS_Connection.ipynb\" target=\"_parent\"><img src=\"https://colab.research.google.com/assets/colab-badge.svg\" alt=\"Open In Colab\"/></a>"
      ]
    },
    {
      "cell_type": "code",
      "execution_count": 4,
      "metadata": {
        "colab": {
          "base_uri": "https://localhost:8080/"
        },
        "id": "Y6pz7LGh_L1p",
        "outputId": "6b27d730-68d5-4af4-c7fc-2bd8e7159625"
      },
      "outputs": [
        {
          "output_type": "stream",
          "name": "stdout",
          "text": [
            "Hit:1 https://cloud.r-project.org/bin/linux/ubuntu bionic-cran40/ InRelease\n",
            "Ign:2 https://developer.download.nvidia.com/compute/machine-learning/repos/ubuntu1804/x86_64  InRelease\n",
            "Hit:3 https://developer.download.nvidia.com/compute/cuda/repos/ubuntu1804/x86_64  InRelease\n",
            "Hit:4 https://developer.download.nvidia.com/compute/machine-learning/repos/ubuntu1804/x86_64  Release\n",
            "Hit:5 http://ppa.launchpad.net/c2d4u.team/c2d4u4.0+/ubuntu bionic InRelease\n",
            "Hit:6 http://security.ubuntu.com/ubuntu bionic-security InRelease\n",
            "Hit:7 http://archive.ubuntu.com/ubuntu bionic InRelease\n",
            "Hit:8 http://archive.ubuntu.com/ubuntu bionic-updates InRelease\n",
            "Hit:9 http://ppa.launchpad.net/cran/libgit2/ubuntu bionic InRelease\n",
            "Hit:10 http://archive.ubuntu.com/ubuntu bionic-backports InRelease\n",
            "Hit:11 http://ppa.launchpad.net/deadsnakes/ppa/ubuntu bionic InRelease\n",
            "Hit:13 http://ppa.launchpad.net/graphics-drivers/ppa/ubuntu bionic InRelease\n",
            "Reading package lists... Done\n"
          ]
        }
      ],
      "source": [
        "import os\n",
        "# Find the latest version of spark 3.0  from http://www.apache.org/dist/spark/ and enter as the spark version\n",
        "# For example:\n",
        "# spark_version = 'spark-3.0.3'\n",
        "spark_version = 'spark-3.2.2'\n",
        "os.environ['SPARK_VERSION']=spark_version\n",
        "\n",
        "# Install Spark and Java\n",
        "!apt-get update\n",
        "!apt-get install openjdk-11-jdk-headless -qq > /dev/null\n",
        "!wget -q http://www.apache.org/dist/spark/$SPARK_VERSION/$SPARK_VERSION-bin-hadoop2.7.tgz\n",
        "!tar xf $SPARK_VERSION-bin-hadoop2.7.tgz\n",
        "!pip install -q findspark\n",
        "\n",
        "# Set Environment Variables\n",
        "os.environ[\"JAVA_HOME\"] = \"/usr/lib/jvm/java-11-openjdk-amd64\"\n",
        "os.environ[\"SPARK_HOME\"] = f\"/content/{spark_version}-bin-hadoop2.7\"\n",
        "\n",
        "# Start a SparkSession\n",
        "import findspark\n",
        "findspark.init()"
      ]
    },
    {
      "cell_type": "code",
      "execution_count": 5,
      "metadata": {
        "colab": {
          "base_uri": "https://localhost:8080/"
        },
        "id": "vz9XvY3Ke4rG",
        "outputId": "ab4ce284-9321-45aa-d55a-bffbb442d052"
      },
      "outputs": [
        {
          "output_type": "stream",
          "name": "stdout",
          "text": [
            "--2022-11-22 04:09:37--  https://jdbc.postgresql.org/download/postgresql-42.2.16.jar\n",
            "Resolving jdbc.postgresql.org (jdbc.postgresql.org)... 72.32.157.228, 2001:4800:3e1:1::228\n",
            "Connecting to jdbc.postgresql.org (jdbc.postgresql.org)|72.32.157.228|:443... connected.\n",
            "HTTP request sent, awaiting response... 200 OK\n",
            "Length: 1002883 (979K) [application/java-archive]\n",
            "Saving to: ‘postgresql-42.2.16.jar.1’\n",
            "\n",
            "postgresql-42.2.16. 100%[===================>] 979.38K  --.-KB/s    in 0.08s   \n",
            "\n",
            "2022-11-22 04:09:37 (11.4 MB/s) - ‘postgresql-42.2.16.jar.1’ saved [1002883/1002883]\n",
            "\n"
          ]
        }
      ],
      "source": [
        "!wget https://jdbc.postgresql.org/download/postgresql-42.2.16.jar"
      ]
    },
    {
      "cell_type": "code",
      "execution_count": 6,
      "metadata": {
        "id": "lydTueVye4rH"
      },
      "outputs": [],
      "source": [
        "from pyspark.sql import SparkSession\n",
        "spark = SparkSession.builder.appName(\"CloudETL\").config(\"spark.driver.extraClassPath\",\"/content/postgresql-42.2.16.jar\").getOrCreate()"
      ]
    },
    {
      "cell_type": "code",
      "execution_count": 26,
      "metadata": {
        "id": "aIGU4Tzs_Q4g"
      },
      "outputs": [],
      "source": [
        "from pyspark import SparkFiles\n",
        "# Load in three different CSV from S3 into a DataFrame\n",
        "url1_patient_info = \"https://data1-patient-info.s3.us-east-2.amazonaws.com/data1_patient_info.csv\"\n",
        "spark.sparkContext.addFile(url1_patient_info)\n",
        "\n",
        "url2_patient_tests = \"https://data2-patient-tests.s3.us-east-2.amazonaws.com/data2_patient_tests.csv\"\n",
        "spark.sparkContext.addFile(url2_patient_tests)\n",
        "\n",
        "url3_patient_results = \"https://data3-patient-results.s3.us-east-2.amazonaws.com/data3_patient_results.csv\"\n",
        "spark.sparkContext.addFile(url3_patient_results)\n",
        "\n",
        "df_patient_info = spark.read.option('header', 'true').csv(SparkFiles.get(\"data1_patient_info.csv\"), inferSchema=True, sep=',', timestampFormat=\"mm/dd/yy\")\n",
        "df_patient_tests = spark.read.option('header', 'true').csv(SparkFiles.get(\"data2_patient_tests.csv\"), inferSchema=True, sep=',', timestampFormat=\"mm/dd/yy\")\n",
        "df_patient_results = spark.read.option('header', 'true').csv(SparkFiles.get(\"data3_patient_results.csv\"), inferSchema=True, sep=',', timestampFormat=\"mm/dd/yy\")\n",
        "\n"
      ]
    },
    {
      "cell_type": "code",
      "source": [
        "df_patient_info.show(10)"
      ],
      "metadata": {
        "colab": {
          "base_uri": "https://localhost:8080/"
        },
        "id": "FAu0d7fcndQU",
        "outputId": "bb460032-ddf9-4f1d-bfbc-d7b0e7e98118"
      },
      "execution_count": 27,
      "outputs": [
        {
          "output_type": "stream",
          "name": "stdout",
          "text": [
            "+--------+---+------+------+------+\n",
            "|personid|age| sexid|height|weight|\n",
            "+--------+---+------+------+------+\n",
            "|       0| 43|female| 166.4|  53.5|\n",
            "|       1| 34|  male| 169.0|  57.0|\n",
            "|       2| 32|female| 157.0|  51.0|\n",
            "|       3| 59|  male| 165.0|  63.0|\n",
            "|       4| 30|female| 163.5|  48.5|\n",
            "|       5| 41|female| 157.0|  57.9|\n",
            "|       6| 51|female| 170.0|  61.8|\n",
            "|       7| 36|  male| 166.0|  66.7|\n",
            "|       8| 31|  male| 167.0|  61.5|\n",
            "|       9| 31|  male| 161.5|  58.5|\n",
            "+--------+---+------+------+------+\n",
            "only showing top 10 rows\n",
            "\n"
          ]
        }
      ]
    },
    {
      "cell_type": "code",
      "source": [
        "df_patient_tests.show(10)"
      ],
      "metadata": {
        "colab": {
          "base_uri": "https://localhost:8080/"
        },
        "id": "W32WzG9mndhq",
        "outputId": "3766ad7c-d0fe-4fcd-85e2-54d785a94ec1"
      },
      "execution_count": 28,
      "outputs": [
        {
          "output_type": "stream",
          "name": "stdout",
          "text": [
            "+--------+----+---+---+----+-----------+------------+-----------+-----------+----+-----------+----+----+--------------+\n",
            "|personID| BMI|SBP|DBP| FPG|Cholesterol|Triglyceride|        HDL|        LDL| ALT|        AST| BUN| CCR|FPG_finalvisit|\n",
            "+--------+----+---+---+----+-----------+------------+-----------+-----------+----+-----------+----+----+--------------+\n",
            "|       0|19.3| 96| 57|4.99|       5.13|        0.78|1.372496408|2.763126986|10.0|23.99254235|3.08|50.3|          4.97|\n",
            "|       1|20.0|124| 69|3.51|       4.61|        1.75|       1.09|       3.13|29.1|23.99254235|6.13|83.7|           5.5|\n",
            "|       2|20.7| 98| 68|4.25|       4.73|        0.47|1.372496408|2.763126986| 6.9|       19.5|4.45|42.8|           4.9|\n",
            "|       3|23.1|136| 73| 5.7|        4.5|        0.75|       1.53|        2.8|15.0|23.99254235|5.76|62.6|           5.5|\n",
            "|       4|18.1|107| 76|4.42|       3.48|        0.52|       1.55|       1.43|12.0|       19.9|2.51|48.9|          4.82|\n",
            "|       5|23.5|119| 83|4.53|        3.7|        1.39|1.372496408|2.763126986|34.0|       23.0|3.85|53.0|           5.0|\n",
            "|       6|21.4|123| 66| 4.6|       4.77|        1.29|1.372496408|2.763126986|12.1|       13.2| 3.1|41.2|           4.8|\n",
            "|       7|24.2|111| 67|4.69|       4.75|        1.02|        1.2|       3.09|24.6|23.99254235|5.95|90.7|          5.32|\n",
            "|       8|22.1|130| 61| 4.7|       3.93|        0.76|       1.26|       2.21|46.0|23.99254235| 8.3|75.5|           4.8|\n",
            "|       9|22.4|104| 74|5.78|       4.48|        0.78|1.372496408|2.763126986|23.6|23.99254235|6.82|96.5|           5.1|\n",
            "+--------+----+---+---+----+-----------+------------+-----------+-----------+----+-----------+----+----+--------------+\n",
            "only showing top 10 rows\n",
            "\n"
          ]
        }
      ]
    },
    {
      "cell_type": "code",
      "source": [
        "df_patient_results.show(10)"
      ],
      "metadata": {
        "colab": {
          "base_uri": "https://localhost:8080/"
        },
        "id": "DkWTlSdunhZ8",
        "outputId": "722f4a6a-f81b-4250-ed59-6c204a83df4d"
      },
      "execution_count": 29,
      "outputs": [
        {
          "output_type": "stream",
          "name": "stdout",
          "text": [
            "+--------+--------+------------+-------------+--------------------+\n",
            "|personID|diabetes|    smokerID|    drinkerID|           famhistID|\n",
            "+--------+--------+------------+-------------+--------------------+\n",
            "|       0|      no|never smoker|never drinker|family history of...|\n",
            "|       1|      no|     no info|      no info|no family history...|\n",
            "|       2|      no|     no info|      no info|no family history...|\n",
            "|       3|      no|never smoker|never drinker|no family history...|\n",
            "|       4|      no|     no info|      no info|no family history...|\n",
            "|       5|      no|     no info|      no info|no family history...|\n",
            "|       6|      no|     no info|      no info|no family history...|\n",
            "|       7|      no|     no info|      no info|no family history...|\n",
            "|       8|      no|     no info|      no info|no family history...|\n",
            "|       9|      no|never smoker|never drinker|no family history...|\n",
            "+--------+--------+------------+-------------+--------------------+\n",
            "only showing top 10 rows\n",
            "\n"
          ]
        }
      ]
    },
    {
      "cell_type": "markdown",
      "metadata": {
        "id": "kdtKPZ1w_V3e"
      },
      "source": [
        "## Drop duplicates and incomplete rows"
      ]
    },
    {
      "cell_type": "code",
      "execution_count": 16,
      "metadata": {
        "id": "10qoqQv3_Y_w",
        "colab": {
          "base_uri": "https://localhost:8080/"
        },
        "outputId": "f525dd50-7137-4b9a-e852-1121bb90a9c2"
      },
      "outputs": [
        {
          "output_type": "stream",
          "name": "stdout",
          "text": [
            "202393\n",
            "202393\n",
            "202393\n"
          ]
        }
      ],
      "source": [
        "print(df_patient_info.count())\n",
        "df_patient_info = df_patient_info.dropna()\n",
        "print(df_patient_info.count())\n",
        "df_patient_info = df_patient_info.dropDuplicates()\n",
        "print(df_patient_info.count())"
      ]
    },
    {
      "cell_type": "code",
      "source": [
        "print(df_patient_tests.count())\n",
        "df_patient_tests = df_patient_tests.dropna()\n",
        "print(df_patient_tests.count())\n",
        "df_patient_tests = df_patient_tests.dropDuplicates()\n",
        "print(df_patient_tests.count())"
      ],
      "metadata": {
        "colab": {
          "base_uri": "https://localhost:8080/"
        },
        "id": "YNlhIQjRnqB9",
        "outputId": "9b29adb8-b1d5-4a35-ab13-3e5814b28f95"
      },
      "execution_count": 31,
      "outputs": [
        {
          "output_type": "stream",
          "name": "stdout",
          "text": [
            "202393\n",
            "202393\n",
            "202393\n"
          ]
        }
      ]
    },
    {
      "cell_type": "code",
      "source": [
        "print(df_patient_results.count())\n",
        "df_patient_results = df_patient_results.dropna()\n",
        "print(df_patient_results.count())\n",
        "df_patient_results = df_patient_results.dropDuplicates()\n",
        "print(df_patient_results.count())"
      ],
      "metadata": {
        "colab": {
          "base_uri": "https://localhost:8080/"
        },
        "id": "k6miQDOdnqLd",
        "outputId": "09d4279f-a4c8-4925-81fd-40644c299a64"
      },
      "execution_count": 30,
      "outputs": [
        {
          "output_type": "stream",
          "name": "stdout",
          "text": [
            "202393\n",
            "202393\n",
            "202393\n"
          ]
        }
      ]
    },
    {
      "cell_type": "markdown",
      "metadata": {
        "id": "0PDvBiVN_jGe"
      },
      "source": [
        "## Write DataFrame to RDS"
      ]
    },
    {
      "cell_type": "code",
      "execution_count": 32,
      "metadata": {
        "id": "fOIS3viE_leJ"
      },
      "outputs": [],
      "source": [
        "# Configuration for RDS instance\n",
        "mode=\"append\"\n",
        "jdbc_url = \"jdbc:postgresql://diabetes-database.cvg5rnfkuhyi.us-east-2.rds.amazonaws.com:5432/Diabetes_DataBase\"\n",
        "config = {\"user\":\"postgres\",\n",
        "          \"password\": \"123456789\",\n",
        "          \"driver\":\"org.postgresql.Driver\"}"
      ]
    },
    {
      "cell_type": "code",
      "execution_count": 24,
      "metadata": {
        "id": "K6_O84CK_nV5"
      },
      "outputs": [],
      "source": [
        "# Write DataFrame to table\n",
        "\n",
        "df_patient_info.write.jdbc(url=jdbc_url, table='patient_info', mode=mode, properties=config)"
      ]
    },
    {
      "cell_type": "code",
      "execution_count": 33,
      "metadata": {
        "id": "Tvw--Ool_vju"
      },
      "outputs": [],
      "source": [
        "# Write DataFrame to table\n",
        "\n",
        "df_patient_tests.write.jdbc(url=jdbc_url, table='patient_tests', mode=mode, properties=config)"
      ]
    },
    {
      "cell_type": "code",
      "source": [
        "# Write DataFrame to table\n",
        "\n",
        "df_patient_results.write.jdbc(url=jdbc_url, table='patient_results', mode=mode, properties=config)"
      ],
      "metadata": {
        "id": "sHkullg9oHZ7"
      },
      "execution_count": null,
      "outputs": []
    }
  ],
  "metadata": {
    "colab": {
      "provenance": [],
      "include_colab_link": true
    },
    "kernelspec": {
      "display_name": "Python 3",
      "language": "python",
      "name": "python3"
    },
    "language_info": {
      "codemirror_mode": {
        "name": "ipython",
        "version": 3
      },
      "file_extension": ".py",
      "mimetype": "text/x-python",
      "name": "python",
      "nbconvert_exporter": "python",
      "pygments_lexer": "ipython3",
      "version": "3.7.7"
    },
    "latex_envs": {
      "LaTeX_envs_menu_present": true,
      "autoclose": false,
      "autocomplete": true,
      "bibliofile": "biblio.bib",
      "cite_by": "apalike",
      "current_citInitial": 1,
      "eqLabelWithNumbers": true,
      "eqNumInitial": 1,
      "hotkeys": {
        "equation": "Ctrl-E",
        "itemize": "Ctrl-I"
      },
      "labels_anchors": false,
      "latex_user_defs": false,
      "report_style_numbering": false,
      "user_envs_cfg": false
    }
  },
  "nbformat": 4,
  "nbformat_minor": 0
}